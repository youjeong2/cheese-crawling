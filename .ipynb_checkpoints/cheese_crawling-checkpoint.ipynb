{
 "cells": [
  {
   "cell_type": "code",
   "execution_count": 1,
   "metadata": {},
   "outputs": [
    {
     "name": "stdout",
     "output_type": "stream",
     "text": [
      "Requirement already satisfied: selenium in /Users/kimyujeong/opt/anaconda3/lib/python3.7/site-packages (3.141.0)\n",
      "Requirement already satisfied: urllib3 in /Users/kimyujeong/opt/anaconda3/lib/python3.7/site-packages (from selenium) (1.25.8)\n",
      "Note: you may need to restart the kernel to use updated packages.\n"
     ]
    }
   ],
   "source": [
    "pip install selenium"
   ]
  },
  {
   "cell_type": "code",
   "execution_count": 2,
   "metadata": {},
   "outputs": [
    {
     "name": "stdout",
     "output_type": "stream",
     "text": [
      "[<div class=\"prdImg img_zoom\">\n",
      "<a href=\"/product/벨지오이오소-생-모짜렐라-로그-453g/3122/category/29/display/1/\" name=\"anchorBoxName_3122\"><img alt=\"벨지오이오소 생 모짜렐라 로그 453g\" id=\"eListPrdImage3122_1\" src=\"//cheesemall.co.kr/web/product/medium/MCHa1013S001.jpg\"/></a>\n",
      "</div>]\n"
     ]
    }
   ],
   "source": [
    "# import dload\n",
    "\n",
    "from bs4 import BeautifulSoup\n",
    "from selenium import webdriver\n",
    "import time\n",
    "# 셀레니움을 사용하면 파이썬으로 브라우저를 제어할 수 있게\n",
    "driver = webdriver.Chrome('./chromedriver') # 셀레니움을 사용하기 위해 필요한 웹드라이버 파일의 경로\n",
    "driver.get(\"http://cheesemall.co.kr/category/%ED%9B%84%EB%A0%88%EC%89%AC%EC%B9%98%EC%A6%88/29/\")\n",
    "time.sleep(3) # 3초 동안 페이지 로딩 기다리기\n",
    "\n",
    "req = driver.page_source\n",
    "# HTML을 BeautifulSoup이라는 라이브러리를 활용해 검색하기 용이한 상태로 만듦\n",
    "# soup이라는 변수에 \"파싱 용이해진 html\"이 담긴 상태가 됨\n",
    "soup = BeautifulSoup(req, 'html.parser')\n",
    "\n",
    "# 이제 코딩을 통해 필요한 부분을 추출하면 된다\n",
    "thumbnails = soup.select('#anchorBoxId_3122 > div.thumbnail > div.prdImg.img_zoom')\n",
    "#anchorBoxId_3122 > div.description > strong > a > span:nth-child(2)\n",
    "# i = 1\n",
    "# for thumbnails in thumbnails:\n",
    "#     src = thumbnails['src']\n",
    "#     dload.save(src, f'imgs/{i}.jpg')\n",
    "#     i += 1\n",
    "\n",
    "print(thumbnails)\n",
    "\n",
    "driver.quit() # 끝나면 닫아주기"
   ]
  },
  {
   "cell_type": "code",
   "execution_count": null,
   "metadata": {},
   "outputs": [],
   "source": []
  }
 ],
 "metadata": {
  "kernelspec": {
   "display_name": "Python 3",
   "language": "python",
   "name": "python3"
  },
  "language_info": {
   "codemirror_mode": {
    "name": "ipython",
    "version": 3
   },
   "file_extension": ".py",
   "mimetype": "text/x-python",
   "name": "python",
   "nbconvert_exporter": "python",
   "pygments_lexer": "ipython3",
   "version": "3.7.6"
  }
 },
 "nbformat": 4,
 "nbformat_minor": 4
}
